{
 "cells": [
  {
   "cell_type": "markdown",
   "id": "ed58decd-1af6-48cd-b60d-564b06869631",
   "metadata": {},
   "source": [
    "J'appelle $v$ la variable physique."
   ]
  },
  {
   "cell_type": "markdown",
   "id": "5cbad99c-98df-4cee-8cdd-9ac06aa0d795",
   "metadata": {},
   "source": [
    "On calcule la moyenne de $v$ comme la moyenne de $v$ pondérée par $e_3$ : \n",
    "\n",
    "$\\overline{v} = (\\frac{1}{N}\\sum{v_i.e_{3i}}) / (\\frac{1}{N}\\sum{e_{3i}})$"
   ]
  },
  {
   "cell_type": "markdown",
   "id": "4780acc0-52d1-4969-92e1-5200f4327aa8",
   "metadata": {},
   "source": [
    "La variance de $v$ pourrait peut-être sur le même principe être pondérée par $e_3$ :\n",
    "    \n",
    "$\\sigma ^2_v = (\\frac{1}{N}\\sum{((v_i-\\overline{v})^2.e_{3i}})) /(\\frac{1}{N}\\sum{e_{3i}})$"
   ]
  },
  {
   "cell_type": "code",
   "execution_count": null,
   "id": "b715d514-4b55-4d57-8d87-a94d9a5bc31b",
   "metadata": {},
   "outputs": [],
   "source": []
  }
 ],
 "metadata": {
  "kernelspec": {
   "display_name": "Python 3",
   "language": "python",
   "name": "python3"
  },
  "language_info": {
   "codemirror_mode": {
    "name": "ipython",
    "version": 3
   },
   "file_extension": ".py",
   "mimetype": "text/x-python",
   "name": "python",
   "nbconvert_exporter": "python",
   "pygments_lexer": "ipython3",
   "version": "3.5.5"
  }
 },
 "nbformat": 4,
 "nbformat_minor": 5
}
